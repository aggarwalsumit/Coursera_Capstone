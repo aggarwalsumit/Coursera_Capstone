{
    "cells": [
        {
            "cell_type": "markdown",
            "metadata": {
                "collapsed": true
            },
            "source": "# Capstone Project Week 1"
        },
        {
            "cell_type": "markdown",
            "metadata": {},
            "source": "## Background"
        },
        {
            "attachments": {},
            "cell_type": "markdown",
            "metadata": {},
            "source": "New York is one of the worlds most famous places to live and work. This attracts lot of people to move to the city. The increasing population attracts more options for new entrepreneurs to open business and provide services to the customers. The project elaborates on Data Science attempts to analyze the Queens neighborhood in the city and tries to understand the popular sites in the area.\nThe deciding factor for most would be how trending the venues are and what kinds of venues are available currently in the selected area. The business problem assumes that the target audience for the project are the entrepreneur\u2019s who will like to review potential for opening a new business in the City of New York or its neighborhood.\n"
        },
        {
            "cell_type": "markdown",
            "metadata": {},
            "source": "## Problem Statement"
        },
        {
            "cell_type": "markdown",
            "metadata": {},
            "source": "Analyze the data and cluster the data for the neighbourhoods to draw a conclusion.\nThe stakeholder will like to know which kind of restaurant are currenlty available in the neighborhood. \nThis information will help them on deciding on the new venture. "
        },
        {
            "cell_type": "markdown",
            "metadata": {},
            "source": "## Data Source and its Use"
        },
        {
            "cell_type": "markdown",
            "metadata": {},
            "source": "We will utilize the Foursqaure API to pull the data near Queens area and utilize the data to find the famous venues and popular\nat that time of the execution of the process. \nWe will clean the data and remove the N/A columns and process the data. \nWe will also create maps to show the venues.\nWe will also present bar graph to help stakeholder visualize the data. "
        },
        {
            "cell_type": "code",
            "execution_count": null,
            "metadata": {},
            "outputs": [],
            "source": ""
        }
    ],
    "metadata": {
        "kernelspec": {
            "display_name": "Python 3.6",
            "language": "python",
            "name": "python3"
        },
        "language_info": {
            "codemirror_mode": {
                "name": "ipython",
                "version": 3
            },
            "file_extension": ".py",
            "mimetype": "text/x-python",
            "name": "python",
            "nbconvert_exporter": "python",
            "pygments_lexer": "ipython3",
            "version": "3.6.8"
        }
    },
    "nbformat": 4,
    "nbformat_minor": 1
}