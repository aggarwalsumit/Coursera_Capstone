{
    "cells": [
        {
            "cell_type": "markdown",
            "metadata": {
                "collapsed": true
            },
            "source": "# Capstone Project Week 1"
        },
        {
            "cell_type": "markdown",
            "metadata": {},
            "source": "## Background"
        },
        {
            "cell_type": "markdown",
            "metadata": {},
            "source": "New York is one of the worlds most famous places to live and work. This attracts lot of people to move to the city. \nThe increasing population attracts more options for new entreprenuers to open business and provide services to the customers.\nThe project elaborates on Data Science attempts to analyse the Time Sqaure neighbourhood in the city and tries to understand the popular sites in the area.\n"
        },
        {
            "cell_type": "markdown",
            "metadata": {},
            "source": "The deciding fatcor for most would be how lively and supporting the area is for the business. \nThe business problem assumes that the target audience for the project are the entreprenuers who will like to review potential for \nopening a new business in the City of New York."
        },
        {
            "cell_type": "markdown",
            "metadata": {},
            "source": "## Problem Statement"
        },
        {
            "cell_type": "markdown",
            "metadata": {},
            "source": "Analyze the data and cluster the data for the neighbourhoods to draw a conclusion."
        },
        {
            "cell_type": "markdown",
            "metadata": {},
            "source": "## Data Source and its Use"
        },
        {
            "cell_type": "markdown",
            "metadata": {},
            "source": "We will utilize the Foursqaure API to pull the data near Time Square area and utilize the data to find the famousn venues and popular\nat that time of the execution of the process. "
        },
        {
            "cell_type": "code",
            "execution_count": null,
            "metadata": {},
            "outputs": [],
            "source": ""
        }
    ],
    "metadata": {
        "kernelspec": {
            "display_name": "Python 3.6",
            "language": "python",
            "name": "python3"
        },
        "language_info": {
            "codemirror_mode": {
                "name": "ipython",
                "version": 3
            },
            "file_extension": ".py",
            "mimetype": "text/x-python",
            "name": "python",
            "nbconvert_exporter": "python",
            "pygments_lexer": "ipython3",
            "version": "3.6.8"
        }
    },
    "nbformat": 4,
    "nbformat_minor": 1
}